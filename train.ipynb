{
  "nbformat": 4,
  "nbformat_minor": 0,
  "metadata": {
    "colab": {
      "name": "train.ipynb",
      "provenance": [],
      "collapsed_sections": [
        "XNZh4MYBkIRf",
        "_-Zv75R6jsA_",
        "xMcysHTcj298",
        "pKwgYomej7t9"
      ]
    },
    "kernelspec": {
      "name": "python3",
      "language": "python",
      "display_name": "Python 3"
    },
    "pycharm": {
      "stem_cell": {
        "cell_type": "raw",
        "source": [],
        "metadata": {
          "collapsed": false
        }
      }
    }
  },
  "cells": [
    {
      "cell_type": "markdown",
      "metadata": {
        "id": "WaTiAAH-nrln"
      },
      "source": [
        "## **Vision-based angle prediction (SC42050 - Knowledge Based Control Systems)**"
      ]
    },
    {
      "cell_type": "markdown",
      "metadata": {
        "id": "XNZh4MYBkIRf"
      },
      "source": [
        "# Optionally seed the run, define your model, and fit to the training data "
      ]
    },
    {
      "cell_type": "code",
      "metadata": {
        "colab": {
          "base_uri": "https://localhost:8080/",
          "height": 1000
        },
        "id": "Bp04koNTfLBu",
        "pycharm": {
          "is_executing": false
        },
        "outputId": "886b1773-425a-4f93-c74f-657ac89320a2"
      },
      "source": [
        "import tensorflow as tf\n",
        "import numpy as np\n",
        "import matplotlib.pyplot as plt\n",
        "import h5py\n",
        "\n",
        "# FUNCTION TO SEED PSEUDO-RANDOM GENERATORS\n",
        "def seed_experiment(seed=None, use_cpu=True):\n",
        "    import os\n",
        "    os.environ['TF_CPP_MIN_LOG_LEVEL'] = '3'\n",
        "    import random\n",
        "    import numpy as np\n",
        "    import tensorflow as tf\n",
        "\n",
        "    # Seed value\n",
        "    # Apparently you may use different seed values at each stage\n",
        "    seed_value = seed\n",
        "\n",
        "    # 1. Set `PYTHONHASHSEED` environment variable at a fixed value\n",
        "    os.environ['PYTHONHASHSEED'] = str(seed_value)\n",
        "\n",
        "    # 2. Set `python` built-in pseudo-random generator at a fixed value\n",
        "    random.seed(seed_value)\n",
        "\n",
        "    # 3. Set `numpy` pseudo-random generator at a fixed value\n",
        "    np.random.seed(seed_value)\n",
        "\n",
        "    # 4. Set the `tensorflow` pseudo-random generator at a fixed value\n",
        "    tf.random.set_seed(seed_value)\n",
        "    \n",
        "    # 5. force tensorflow to use CPU\n",
        "    if use_cpu:\n",
        "        os.environ['CUDA_VISIBLE_DEVICES'] = ''\n",
        "    return seed_value\n",
        "\n",
        "# SEED EXPERIMENT TO CREATE REPRODUCIBLE RESULTS\n",
        "\"\"\"TASK 1.4: PSEUDO-RANDOM GENERATOR\"\"\"\n",
        "seed_value = 0\n",
        "# seed_experiment(seed=seed_value)  # Comment this line to disable the seeding\n",
        "\"\"\"TASK 1.4: END\"\"\"\n",
        "\n",
        "# LOAD DATASET\n",
        "with h5py.File('./dataset.h5', 'r') as hf:\n",
        "    observation = hf['observation.h5'][:]\n",
        "    state = hf['state.h5'][:]\n",
        "print('Loaded observation data: %s' % str(observation.shape))\n",
        "print('Loaded state data: %s' % str(state.shape))\n",
        "\n",
        "# DATASET PARAMETERS\n",
        "num_examples = 12000\n",
        "observation = observation[:num_examples]\n",
        "state = state[:num_examples]\n",
        "\n",
        "# DATA PRE-PROCESSING\n",
        "# Scale pixel values to a range of 0 to 1 before feeding them to the neural network model.\n",
        "observation = observation.astype(np.float32) / 255.\n",
        "\n",
        "# CREATE TEST DATASET\n",
        "test_split = 0.2\n",
        "if 0 < test_split < 1:\n",
        "    split_at = int(len(observation) * (1 - test_split))\n",
        "else:\n",
        "    raise ValueError('Must hold-out data as a test dataset. Set parameter 0 < test_split < 1.')\n",
        "test_obs = observation[split_at:, :, :, :]\n",
        "test_theta = state[split_at:, 0]\n",
        "test_trig = np.hstack([np.sin(test_theta)[:, None], np.cos(test_theta)[:, None]])\n",
        "\n",
        "# CREATE TRAINING DATASET\n",
        "train_obs = observation[:split_at, :, :, :]\n",
        "train_theta = state[:split_at, 0]\n",
        "train_trig = np.hstack([np.sin(train_theta)[:, None], np.cos(train_theta)[:, None]])\n",
        "\n",
        "# VERIFY TRAINING DATA\n",
        "# To verify that the data is in the correct format and that you're ready to build and train the network,\n",
        "# let's display the first 25 images from the dataset and display the corresponding theta value below each image.\n",
        "plt.figure(figsize=(10, 10))\n",
        "for i in range(25):\n",
        "    plt.subplot(5, 5, i+1)\n",
        "    plt.xticks([])\n",
        "    plt.yticks([])\n",
        "    plt.grid(False)\n",
        "    plt.imshow(train_obs[i])\n",
        "    plt.xlabel(str(round(train_theta[i]/np.pi, 2)) + '$\\\\pi$')\n",
        "plt.show()\n",
        "\n",
        "# MODEL PARAMETERS\n",
        "model_type = 'model_cnn'  # 'model_theta', 'model_trig', 'model_cnn'\n",
        "\n",
        "# BUILD MODELS\n",
        "# Building the neural network requires configuring the layers of the model, then compiling the model.\n",
        "if model_type == 'model_theta':  # Predict theta directly\n",
        "    \"\"\"TASK 1.1: CREATE MODEL HERE\"\"\"\n",
        "\n",
        "    model = tf.keras.Sequential(name=\"model_theta\")\n",
        "    model.add(tf.keras.layers.Flatten())\n",
        "    model.add(tf.keras.layers.Dense(128, activation=\"relu\", name=\"dense_layer_128\"))\n",
        "    model.add(tf.keras.layers.Dense(1, name=\"dense_layer_1\"))\n",
        "\n",
        "\n",
        "    \"\"\"\n",
        "    model = tf.keras.Sequential( #irene\n",
        "        [\n",
        "            tf.keras.layers.Flatten(),\n",
        "            tf.keras.layers.Dense(128, activation=\"relu\", name=\"dense_layer_128\"),\n",
        "            tf.keras.layers.Dense(1, name=\"dense_layer_1\"),\n",
        "        ]\n",
        "    )\n",
        "    \"\"\"\n",
        "    \n",
        "    \"\"\"TASK 1.1: END\"\"\"\n",
        "    str_model_type = '$M^\\\\theta$'\n",
        "elif model_type == 'model_trig':  # Predict trigonometric functions of theta\n",
        "    \"\"\"TASK 1.2: CREATE MODEL HERE\"\"\"\n",
        "    model = tf.keras.Sequential(name=\"model_trig\")\n",
        "    model.add(tf.keras.layers.Flatten())\n",
        "    model.add(tf.keras.layers.Dense(128, activation=\"relu\", name=\"dense_layer_128\"))\n",
        "    model.add(tf.keras.layers.Dense(2, name=\"dense_layer_2\"))\n",
        "\n",
        "    \"\"\"\n",
        "    model = tf.keras.Sequential( \n",
        "        [\n",
        "            tf.keras.layers.Flatten(),\n",
        "            tf.keras.layers.Dense(128, activation=\"relu\", name=\"dense_layer_128\"),\n",
        "            tf.keras.layers.Dense(2, name=\"dense_layer_2\"),\n",
        "        ]\n",
        "    )\n",
        "\n",
        "    \"\"\"\n",
        "    \n",
        "    \"\"\"TASK 1.2: END\"\"\"\n",
        "    str_model_type = '$M^{trig}$'\n",
        "elif model_type == 'model_cnn':  # Use a CNN\n",
        "    \"\"\"TASK 1.3: CREATE MODEL HERE\"\"\"\n",
        "\n",
        "    model = tf.keras.Sequential(name=\"model_cnn\")\n",
        "    model.add(tf.keras.layers.Conv2D(32, 3, activation=\"relu\"))\n",
        "    model.add(tf.keras.layers.MaxPool2D(pool_size=(2, 2)))\n",
        "    model.add(tf.keras.layers.Flatten())\n",
        "    model.add(tf.keras.layers.Dense(2, name=\"dense_layer_2\"))\n",
        "\n",
        "    \"\"\"\n",
        "    model = tf.keras.Sequential(\n",
        "        [\n",
        "            tf.keras.layers.Conv2D(32, 3, activation=\"relu\"),\n",
        "            tf.keras.layers.MaxPool2D(pool_size=(2, 2)),\n",
        "            tf.keras.layers.Flatten(),\n",
        "            tf.keras.layers.Dense(2, name=\"dense_layer_2\"),\n",
        "        ]\n",
        "    )\n",
        "\n",
        "    \"\"\"\n",
        "    \n",
        "    \"\"\"TASK 1.3: END\"\"\"\n",
        "    str_model_type = '$M^{cnn}$'\n",
        "else:\n",
        "    raise ValueError('Unknown model type selected.')\n",
        "\n",
        "# VERIFY THAT A MODEL WAS DEFINED\n",
        "try:\n",
        "    model\n",
        "except NameError:\n",
        "    raise ValueError(\"Variable 'model' not defined! Make sure to name every keras model 'model'!\")\n",
        "\n",
        "# COMPILE MODEL\n",
        "\"\"\"TASK 1.1: COMPILE MODEL HERE\"\"\"\n",
        "model.compile(optimizer='adam', loss=tf.keras.losses.MeanSquaredError())\n",
        "\"\"\"TASK 1.1: END\"\"\"\n",
        "\n",
        "# FIT MODEL ON DATA\n",
        "validation_split = 0.2\n",
        "shuffle = True\n",
        "batch_size = 64\n",
        "epochs = 30\n",
        "if model_type != 'model_theta':  # i.e. 'model_trig', 'model_cnn'\n",
        "    \"\"\"TASK 1.2: TRAIN MODEL HERE\"\"\"\n",
        "    model.fit(\n",
        "    x=train_obs,\n",
        "    y=train_trig,\n",
        "    batch_size=64,\n",
        "    epochs=30,\n",
        "    validation_split=0.2)\n",
        "    \"\"\"TASK 1.2: END\"\"\"\n",
        "\n",
        "else: # i.e. 'model_theta'\n",
        "    \"\"\"TASK 1.1: TRAIN MODEL HERE\"\"\"\n",
        "    model.fit(\n",
        "    x=train_obs,\n",
        "    y=train_theta,\n",
        "    batch_size=64,\n",
        "    epochs=30,\n",
        "    validation_split=0.2)\n",
        "\n",
        "    \n",
        "    \"\"\"TASK 1.1: END\"\"\""
      ],
      "execution_count": 9,
      "outputs": [
        {
          "output_type": "stream",
          "text": [
            "Loaded observation data: (12120, 28, 28, 3)\n",
            "Loaded state data: (12120, 2)\n"
          ],
          "name": "stdout"
        },
        {
          "output_type": "display_data",
          "data": {
            "image/png": "[encoded data removed]",
            "text/plain": [
              "<Figure size 720x720 with 25 Axes>"
            ]
          },
          "metadata": {
            "tags": []
          }
        },
        {
          "output_type": "stream",
          "text": [
            "Epoch 1/30\n",
            "120/120 [==============================] - 4s 28ms/step - loss: 0.3184 - val_loss: 0.0017\n",
            "Epoch 2/30\n",
            "120/120 [==============================] - 3s 26ms/step - loss: 7.4764e-04 - val_loss: 2.2903e-04\n",
            "Epoch 3/30\n",
            "120/120 [==============================] - 3s 27ms/step - loss: 2.0963e-04 - val_loss: 1.5510e-04\n",
            "Epoch 4/30\n",
            "120/120 [==============================] - 3s 27ms/step - loss: 1.5943e-04 - val_loss: 1.2189e-04\n",
            "Epoch 5/30\n",
            "120/120 [==============================] - 3s 27ms/step - loss: 1.2412e-04 - val_loss: 1.0328e-04\n",
            "Epoch 6/30\n",
            "120/120 [==============================] - 3s 27ms/step - loss: 1.0581e-04 - val_loss: 1.1821e-04\n",
            "Epoch 7/30\n",
            "120/120 [==============================] - 3s 27ms/step - loss: 9.5941e-05 - val_loss: 6.7737e-05\n",
            "Epoch 8/30\n",
            "120/120 [==============================] - 3s 27ms/step - loss: 7.5823e-05 - val_loss: 6.0356e-05\n",
            "Epoch 9/30\n",
            "120/120 [==============================] - 3s 27ms/step - loss: 6.6720e-05 - val_loss: 4.9880e-05\n",
            "Epoch 10/30\n",
            "120/120 [==============================] - 3s 26ms/step - loss: 5.9687e-05 - val_loss: 4.2867e-05\n",
            "Epoch 11/30\n",
            "120/120 [==============================] - 3s 27ms/step - loss: 5.3903e-05 - val_loss: 4.4957e-05\n",
            "Epoch 12/30\n",
            "120/120 [==============================] - 3s 27ms/step - loss: 4.6724e-05 - val_loss: 3.2326e-05\n",
            "Epoch 13/30\n",
            "120/120 [==============================] - 3s 29ms/step - loss: 3.4883e-05 - val_loss: 3.3184e-05\n",
            "Epoch 14/30\n",
            "120/120 [==============================] - 3s 29ms/step - loss: 3.3406e-05 - val_loss: 2.4198e-05\n",
            "Epoch 15/30\n",
            "120/120 [==============================] - 3s 27ms/step - loss: 3.1555e-05 - val_loss: 2.4933e-05\n",
            "Epoch 16/30\n",
            "120/120 [==============================] - 3s 27ms/step - loss: 2.7795e-05 - val_loss: 4.2230e-05\n",
            "Epoch 17/30\n",
            "120/120 [==============================] - 3s 27ms/step - loss: 3.4243e-05 - val_loss: 5.0262e-05\n",
            "Epoch 18/30\n",
            "120/120 [==============================] - 3s 27ms/step - loss: 3.0989e-05 - val_loss: 3.3084e-05\n",
            "Epoch 19/30\n",
            "120/120 [==============================] - 3s 27ms/step - loss: 4.6476e-05 - val_loss: 1.9252e-05\n",
            "Epoch 20/30\n",
            "120/120 [==============================] - 3s 27ms/step - loss: 2.2459e-05 - val_loss: 1.2480e-05\n",
            "Epoch 21/30\n",
            "120/120 [==============================] - 3s 27ms/step - loss: 2.3515e-05 - val_loss: 1.1713e-05\n",
            "Epoch 22/30\n",
            "120/120 [==============================] - 3s 27ms/step - loss: 2.1850e-05 - val_loss: 1.3588e-05\n",
            "Epoch 23/30\n",
            "120/120 [==============================] - 3s 27ms/step - loss: 3.7831e-05 - val_loss: 1.2065e-05\n",
            "Epoch 24/30\n",
            "120/120 [==============================] - 3s 27ms/step - loss: 2.1869e-05 - val_loss: 5.3523e-05\n",
            "Epoch 25/30\n",
            "120/120 [==============================] - 3s 27ms/step - loss: 2.4571e-05 - val_loss: 1.3122e-05\n",
            "Epoch 26/30\n",
            "120/120 [==============================] - 3s 27ms/step - loss: 1.9041e-05 - val_loss: 1.5942e-05\n",
            "Epoch 27/30\n",
            "120/120 [==============================] - 3s 27ms/step - loss: 2.4556e-05 - val_loss: 5.1756e-05\n",
            "Epoch 28/30\n",
            "120/120 [==============================] - 3s 27ms/step - loss: 2.5050e-05 - val_loss: 8.6374e-06\n",
            "Epoch 29/30\n",
            "120/120 [==============================] - 3s 27ms/step - loss: 1.6968e-05 - val_loss: 1.3934e-05\n",
            "Epoch 30/30\n",
            "120/120 [==============================] - 3s 27ms/step - loss: 1.7918e-05 - val_loss: 9.1489e-06\n"
          ],
          "name": "stdout"
        }
      ]
    },
    {
      "cell_type": "markdown",
      "metadata": {
        "id": "xMcysHTcj298"
      },
      "source": [
        "# Evaluate your model"
      ]
    },
    {
      "cell_type": "code",
      "metadata": {
        "id": "h9h8T8xpjUyb",
        "colab": {
          "base_uri": "https://localhost:8080/",
          "height": 316
        },
        "outputId": "5a18d25e-83a1-48b8-b474-61ee0c74f0a8"
      },
      "source": [
        "# EVALUATE PERFORMANCE ON TEST DATASET\n",
        "if model_type != 'model_theta':\n",
        "    test_scores = model.evaluate(test_obs, test_trig, verbose=1)\n",
        "    output = model.predict(test_obs)\n",
        "    pred_theta = np.arctan2(output[:, 0], output[:, 1])\n",
        "else:\n",
        "    test_scores = model.evaluate(test_obs, test_theta, verbose=1)\n",
        "    pred_theta = model.predict(test_obs)[:, 0]\n",
        "# print(\"Test loss:\", test_scores)\n",
        "\n",
        "# EVALUATE MODEL ACCURACY\n",
        "# Calculate average error per bin over theta range [-pi, pi]\n",
        "test_error = np.abs(test_theta - pred_theta)\n",
        "test_error[test_error > np.pi] -= 2*np.pi\n",
        "test_error = np.abs(test_error)\n",
        "bins = np.linspace(-np.pi, np.pi, 21)\n",
        "digitized = np.digitize(test_theta, bins)\n",
        "bin_means = np.array([test_error[digitized == i].mean() for i in range(1, len(bins))])\n",
        "fig, ax = plt.subplots()\n",
        "ax.bar(bins[:-1], bin_means, width=np.diff(bins), edgecolor=\"black\", align=\"edge\")\n",
        "ax.set_xlabel('$\\\\theta$')\n",
        "ax.set_ylabel('$|\\\\bar{\\\\theta} -\\\\theta|$')\n",
        "ax.set_title('%s - Average prediction error %s' % (str_model_type, '{:.2e}'.format(test_error.mean())));"
      ],
      "execution_count": 10,
      "outputs": [
        {
          "output_type": "stream",
          "text": [
            "75/75 [==============================] - 1s 6ms/step - loss: 9.8023e-06\n"
          ],
          "name": "stdout"
        },
        {
          "output_type": "display_data",
          "data": {
            "image/png": "[encoded data removed]",
            "text/plain": [
              "<Figure size 432x288 with 1 Axes>"
            ]
          },
          "metadata": {
            "tags": [],
            "needs_background": "light"
          }
        }
      ]
    },
    {
      "cell_type": "markdown",
      "metadata": {
        "id": "pKwgYomej7t9"
      },
      "source": [
        "# Summary of the model"
      ]
    },
    {
      "cell_type": "code",
      "metadata": {
        "id": "AJClI4xRiEyO",
        "colab": {
          "base_uri": "https://localhost:8080/"
        },
        "outputId": "98eeb602-9c19-4af6-bc05-4fe2ab27d378"
      },
      "source": [
        "# MODEL SUMMARY\n",
        "model.summary()"
      ],
      "execution_count": 11,
      "outputs": [
        {
          "output_type": "stream",
          "text": [
            "Model: \"model_cnn\"\n",
            "_________________________________________________________________\n",
            "Layer (type)                 Output Shape              Param #   \n",
            "=================================================================\n",
            "conv2d (Conv2D)              (None, 26, 26, 32)        896       \n",
            "_________________________________________________________________\n",
            "max_pooling2d (MaxPooling2D) (None, 13, 13, 32)        0         \n",
            "_________________________________________________________________\n",
            "flatten_3 (Flatten)          (None, 5408)              0         \n",
            "_________________________________________________________________\n",
            "dense_layer_2 (Dense)        (None, 2)                 10818     \n",
            "=================================================================\n",
            "Total params: 11,714\n",
            "Trainable params: 11,714\n",
            "Non-trainable params: 0\n",
            "_________________________________________________________________\n"
          ],
          "name": "stdout"
        }
      ]
    }
  ]
}